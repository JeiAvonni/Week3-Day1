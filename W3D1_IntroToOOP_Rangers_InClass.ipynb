{
 "cells": [
  {
   "cell_type": "markdown",
   "metadata": {},
   "source": [
    "# Object-Oriented-Programming (OOP)"
   ]
  },
  {
   "cell_type": "markdown",
   "metadata": {},
   "source": [
    "## Tasks Today:\n",
    "\n",
    "   \n",
    "\n",
    "1) <b>Creating a Class (Initializing/Declaring)</b> <br>\n",
    "2) <b>Using a Class (Instantiating)</b> <br>\n",
    " &nbsp;&nbsp;&nbsp;&nbsp; a) Creating One Instance <br>\n",
    " &nbsp;&nbsp;&nbsp;&nbsp; b) Creating Multiple Instances <br>\n",
    " &nbsp;&nbsp;&nbsp;&nbsp; c) In-Class Exercise #1 - Create a Class 'Car' and instantiate three different makes of cars <br>\n",
    "3) <b>The \\__init\\__() Method</b> <br>\n",
    " &nbsp;&nbsp;&nbsp;&nbsp; a) The 'self' Attribute <br>\n",
    "4) <b>Class Attributes</b> <br>\n",
    " &nbsp;&nbsp;&nbsp;&nbsp; a) Initializing Attributes <br>\n",
    " &nbsp;&nbsp;&nbsp;&nbsp; b) Setting an Attribute Outside of the \\__init\\__() Method <br>\n",
    " &nbsp;&nbsp;&nbsp;&nbsp; c) Setting Defaults for Attributes <br>\n",
    " &nbsp;&nbsp;&nbsp;&nbsp; d) Accessing Class Attributes <br>\n",
    " &nbsp;&nbsp;&nbsp;&nbsp; e) Changing Class Attributes <br>\n",
    " &nbsp;&nbsp;&nbsp;&nbsp; f) In-Class Exercise #2 - Add a color and wheels attribute to your 'Car' class <br>\n",
    "5) <b>Class Methods</b> <br>\n",
    " &nbsp;&nbsp;&nbsp;&nbsp; a) Creating <br>\n",
    " &nbsp;&nbsp;&nbsp;&nbsp; b) Calling <br>\n",
    " &nbsp;&nbsp;&nbsp;&nbsp; c) Modifying an Attribute's Value Through a Method <br>\n",
    " &nbsp;&nbsp;&nbsp;&nbsp; d) Incrementing an Attribute's Value Through a Method <br>\n",
    " &nbsp;&nbsp;&nbsp;&nbsp; e) In-Class Exercise #3 - Add a method that prints the cars color and wheel number, then call them <br>\n",
    "6) <b>Inheritance</b> <br>\n",
    " &nbsp;&nbsp;&nbsp;&nbsp; a) Syntax for Inheriting from a Parent Class <br>\n",
    " &nbsp;&nbsp;&nbsp;&nbsp; b) The \\__init\\__() Method for a Child Class (super()) <br>\n",
    " &nbsp;&nbsp;&nbsp;&nbsp; c) Defining Attributes and Methods for the Child Class <br>\n",
    " &nbsp;&nbsp;&nbsp;&nbsp; d) Method Overriding <br>\n",
    " &nbsp;&nbsp;&nbsp;&nbsp; e) In-Class Exercise #4 - Create a class 'Ford' that inherits from 'Car' class and initialize it as a Blue Ford Explorer with 4 wheels using the super() method <br>\n",
    "7) <b>Encapsulation</b> <br>\n",
    " &nbsp;&nbsp;&nbsp;&nbsp; a) Public Access Modifier <br>\n",
    " &nbsp;&nbsp;&nbsp;&nbsp; b) Protected Access Modifier <br>\n",
    " &nbsp;&nbsp;&nbsp;&nbsp; c) Private Access Modifier <br>\n",
    "8) <b>Classes as Attributes</b> <br>\n",
    "9) <b>Exercises</b> <br>\n",
    " &nbsp;&nbsp;&nbsp;&nbsp; a) Exercise #1 - Turn the shopping cart program from last week into an object-oriented program <br>"
   ]
  },
  {
   "cell_type": "markdown",
   "metadata": {},
   "source": [
    "## Classes\n",
    "\n",
    "<p>A class is a blueprint for creating objects. It defines attributes (characteristics) and methods (functions) that the objects created from the class will have. It provides a way to structure and organize code in object-oriented programming. </p>"
   ]
  },
  {
   "cell_type": "markdown",
   "metadata": {},
   "source": [
    "## Creating a Class (Initializing/Declaring)\n",
    "<p>When creating a class, function, or even a variable you are initializing that object. Initializing and Declaring occur at the same time in Python, whereas in lower level languages you have to declare an object before initializing it. This is the first step in the process of using a class.</p>"
   ]
  },
  {
   "cell_type": "code",
   "execution_count": 20,
   "metadata": {},
   "outputs": [],
   "source": [
    "class car(): #defines our class\n",
    "    wheels = 4 \n",
    "    color = \"blue\""
   ]
  },
  {
   "cell_type": "markdown",
   "metadata": {},
   "source": [
    "## Using a Class (Instantiating)\n",
    "<p>The process of creating a class is called <i>Instantiating</i>. Each time you create a variable of that type of class, it is referred to as an <i>Instance</i> of that class. This is the second step in the process of using a class.</p>"
   ]
  },
  {
   "cell_type": "markdown",
   "metadata": {},
   "source": [
    "##### Creating One Instance"
   ]
  },
  {
   "cell_type": "code",
   "execution_count": 9,
   "metadata": {},
   "outputs": [
    {
     "name": "stdout",
     "output_type": "stream",
     "text": [
      "4\n",
      "blue\n"
     ]
    }
   ],
   "source": [
    "ford = car()\n",
    "print(ford.wheels)\n",
    "print(ford.color)\n",
    "\n",
    "# print(ford.__dict__)"
   ]
  },
  {
   "cell_type": "markdown",
   "metadata": {},
   "source": [
    "##### Creating Multiple Instances"
   ]
  },
  {
   "cell_type": "code",
   "execution_count": 15,
   "metadata": {},
   "outputs": [
    {
     "name": "stdout",
     "output_type": "stream",
     "text": [
      "blue\n",
      "blue\n",
      "blue\n",
      "4\n",
      "4\n",
      "4\n"
     ]
    }
   ],
   "source": [
    "mazda = car()\n",
    "honda = car()\n",
    "mclaren = car()\n",
    "print(mazda.color)\n",
    "print(honda.color)\n",
    "print(mclaren.color)\n",
    "print(mclaren.wheels)\n",
    "print(mazda.wheels)\n",
    "print(honda.wheels)"
   ]
  },
  {
   "cell_type": "markdown",
   "metadata": {},
   "source": [
    "##### In-Class Exercise #1 - Create a Class 'Car' and Instantiate three different makes of cars"
   ]
  },
  {
   "cell_type": "code",
   "execution_count": 25,
   "metadata": {},
   "outputs": [],
   "source": [
    "class suv():\n",
    "    wheels = 4\n",
    "    windows = 4\n",
    "    doors = 4\n",
    "    color = \"white\""
   ]
  },
  {
   "cell_type": "code",
   "execution_count": 2,
   "metadata": {},
   "outputs": [
    {
     "ename": "IndentationError",
     "evalue": "expected an indented block after class definition on line 1 (2121734122.py, line 2)",
     "output_type": "error",
     "traceback": [
      "\u001b[1;36m  Cell \u001b[1;32mIn[2], line 2\u001b[1;36m\u001b[0m\n\u001b[1;33m    print(jeep.wheels)\u001b[0m\n\u001b[1;37m    ^\u001b[0m\n\u001b[1;31mIndentationError\u001b[0m\u001b[1;31m:\u001b[0m expected an indented block after class definition on line 1\n"
     ]
    }
   ],
   "source": [
    "class jeep():\n",
    "print(jeep.wheels)\n",
    "print(jeep.windows)\n",
    "print(jeep.doors)\n",
    "print(jeep.color)"
   ]
  },
  {
   "cell_type": "code",
   "execution_count": null,
   "metadata": {},
   "outputs": [],
   "source": []
  },
  {
   "cell_type": "code",
   "execution_count": null,
   "metadata": {},
   "outputs": [],
   "source": []
  },
  {
   "cell_type": "markdown",
   "metadata": {},
   "source": [
    "## The \\__init\\__() Method <br>\n",
    "<p>This method is used in almost every created class, and called only once upon the creation of the class instance. This method will initialize all variables needed for the object.</p>"
   ]
  },
  {
   "cell_type": "code",
   "execution_count": 30,
   "metadata": {},
   "outputs": [
    {
     "name": "stdout",
     "output_type": "stream",
     "text": [
      "4\n",
      "blue\n",
      "red\n",
      "2\n"
     ]
    }
   ],
   "source": [
    "class car():\n",
    "#  __init__ gets called evry time we instantiate a new object is called\n",
    "    def __init__(self, wheels,color, doors):\n",
    "        self.wheels = wheels\n",
    "        self.color = color\n",
    "        self.doors = doors\n",
    "        # print(\"This is the __init__ method being called\") This is called every time a new instance is called\n",
    "\n",
    "mazda = car(4, 'blue' , 4)\n",
    "\n",
    "ford = car(4, \"red\", 2)\n",
    "#        self.wheels\n",
    "print(mazda.wheels)\n",
    "#      self.color\n",
    "print(mazda.color)\n",
    "#      self.color\n",
    "print(ford.color)\n",
    "#      self.doors\n",
    "print(ford.doors)\n"
   ]
  },
  {
   "cell_type": "markdown",
   "metadata": {},
   "source": [
    "##### The 'self' Attribute <br>\n",
    "<p>This attribute is required to keep track of specific instance's attributes. Without the self attribute, the program would not know how to reference or keep track of an instance's attributes.</p>"
   ]
  },
  {
   "cell_type": "code",
   "execution_count": 40,
   "metadata": {},
   "outputs": [
    {
     "name": "stdout",
     "output_type": "stream",
     "text": [
      " This is Charmander. It is a Fire type\n",
      " This is Squirtle. It is a water type\n",
      " This is Heracross. It is a Bug type\n"
     ]
    }
   ],
   "source": [
    "class pokeman():\n",
    "    def __init__(self, name, type_):\n",
    "#             self holds the place of the bjects we create from this class\n",
    "        self.name = name\n",
    "        self.type_ = type_\n",
    "        print(f\" This is {self.name}. It is a {self.type_} type\")\n",
    "\n",
    "charmander = pokeman(\"Charmander\", \"Fire\")\n",
    "squirtle = pokeman (\"Squirtle\", \"water\")\n",
    "pokeman3 = pokeman(\"Heracross\", \"Bug\")"
   ]
  },
  {
   "cell_type": "markdown",
   "metadata": {},
   "source": [
    "## Class Attributes <br>\n",
    "<p>While variables are inside of a class, they are referred to as attributes and not variables. When someone says 'attribute' you know they're speaking about a class. Attributes can be initialized through the init method, or outside of it.</p>"
   ]
  },
  {
   "cell_type": "markdown",
   "metadata": {},
   "source": [
    "##### Initializing Attributes"
   ]
  },
  {
   "cell_type": "code",
   "execution_count": 46,
   "metadata": {},
   "outputs": [
    {
     "ename": "NameError",
     "evalue": "name 'Pokemon' is not defined",
     "output_type": "error",
     "traceback": [
      "\u001b[1;31m---------------------------------------------------------------------------\u001b[0m",
      "\u001b[1;31mNameError\u001b[0m                                 Traceback (most recent call last)",
      "Cell \u001b[1;32mIn[46], line 1\u001b[0m\n\u001b[1;32m----> 1\u001b[0m bulbasaur \u001b[38;5;241m=\u001b[39m \u001b[43mPokemon\u001b[49m(\u001b[38;5;124m\"\u001b[39m\u001b[38;5;124mBulbasaur\u001b[39m\u001b[38;5;124m\"\u001b[39m , \u001b[38;5;124m\"\u001b[39m\u001b[38;5;124mGrass\u001b[39m\u001b[38;5;124m\"\u001b[39m)\n",
      "\u001b[1;31mNameError\u001b[0m: name 'Pokemon' is not defined"
     ]
    }
   ],
   "source": [
    "bulbasaur = Pokemon(\"Bulbasaur\" , \"Grass\")"
   ]
  },
  {
   "cell_type": "markdown",
   "metadata": {},
   "source": [
    "##### Accessing Class Attributes"
   ]
  },
  {
   "cell_type": "code",
   "execution_count": 47,
   "metadata": {
    "scrolled": true
   },
   "outputs": [
    {
     "ename": "NameError",
     "evalue": "name 'bulbasaur' is not defined",
     "output_type": "error",
     "traceback": [
      "\u001b[1;31m---------------------------------------------------------------------------\u001b[0m",
      "\u001b[1;31mNameError\u001b[0m                                 Traceback (most recent call last)",
      "Cell \u001b[1;32mIn[47], line 1\u001b[0m\n\u001b[1;32m----> 1\u001b[0m \u001b[38;5;28mprint\u001b[39m(\u001b[43mbulbasaur\u001b[49m\u001b[38;5;241m.\u001b[39mname)\n\u001b[0;32m      2\u001b[0m \u001b[38;5;28mprint\u001b[39m(bulbasaur\u001b[38;5;241m.\u001b[39mtype_)\n\u001b[0;32m      3\u001b[0m \u001b[38;5;28mprint\u001b[39m(bulbasaur\u001b[38;5;241m.\u001b[39m\u001b[38;5;18m__dict__\u001b[39m)\n",
      "\u001b[1;31mNameError\u001b[0m: name 'bulbasaur' is not defined"
     ]
    }
   ],
   "source": [
    "print(bulbasaur.name)\n",
    "print(bulbasaur.type_)\n",
    "print(bulbasaur.__dict__)"
   ]
  },
  {
   "cell_type": "markdown",
   "metadata": {},
   "source": [
    "##### Setting Defaults for Attributes"
   ]
  },
  {
   "cell_type": "code",
   "execution_count": 52,
   "metadata": {},
   "outputs": [
    {
     "name": "stdout",
     "output_type": "stream",
     "text": [
      "yellow\n",
      "4\n",
      "4\n",
      "red\n"
     ]
    }
   ],
   "source": [
    "class car():\n",
    "    def __init__(self,color):\n",
    "        self.color = color\n",
    "        self.wheels = 4\n",
    "honda = car(\"yellow\")\n",
    "print(honda.color)\n",
    "print(honda.wheels)\n",
    "ferrari = car(\"red\")\n",
    "print(ferrari.wheels)\n",
    "print(ferrari.color)"
   ]
  },
  {
   "cell_type": "code",
   "execution_count": 54,
   "metadata": {},
   "outputs": [
    {
     "name": "stdout",
     "output_type": "stream",
     "text": [
      "green v8 4\n",
      "black v8 6\n"
     ]
    }
   ],
   "source": [
    "# setting a default perameter iside the __init__ method\n",
    "class car():\n",
    "    def __init__(self, color, engine, wheels = 4):\n",
    "        self.color = color\n",
    "        self.engine = engine\n",
    "        self.wheels = wheels\n",
    "ford = car(\"green\", \"v8\")\n",
    "print(ford.color, ford.engine, ford.wheels)\n",
    "\n",
    "dodge = car(\"black\", \"v8\", 6)\n",
    "print(dodge.color, dodge.engine, dodge.wheels)\n"
   ]
  },
  {
   "cell_type": "markdown",
   "metadata": {},
   "source": [
    "##### Constant attributes <br>\n",
    "<p>In Python, there is no strict concept of \"constants\" within a class as there is in some other programming languages. However, it's a common convention to use uppercase variable names for values that are intended to be treated as constants within a class.</p>"
   ]
  },
  {
   "cell_type": "code",
   "execution_count": 58,
   "metadata": {},
   "outputs": [
    {
     "name": "stdout",
     "output_type": "stream",
     "text": [
      "True\n",
      "True\n"
     ]
    }
   ],
   "source": [
    "class car():\n",
    "    GOES_FAST = True #constant attribute - assesible to any instant of the car class and not likely to change\n",
    "    def __init__(self, color, engine, wheels):\n",
    "        self.color = color\n",
    "        self.engine = engine\n",
    "        self.wheels = wheels\n",
    "\n",
    "ford = car(\"green\", \"v8\", 4)\n",
    "print(ford.GOES_FAST)\n",
    "dodge = car(\"black\", \"v8\", 6)\n",
    "print(dodge.GOES_FAST)"
   ]
  },
  {
   "cell_type": "markdown",
   "metadata": {},
   "source": [
    "##### Changing Class Attributes <br>\n",
    "<p>Keep in mind there are global class attributes and then there are attributes only available to each class instance which won't effect other classes.</p>"
   ]
  },
  {
   "cell_type": "code",
   "execution_count": 65,
   "metadata": {},
   "outputs": [
    {
     "name": "stdout",
     "output_type": "stream",
     "text": [
      "before attribute change: 4\n",
      "After attribute change: 6\n",
      "Before color change: magenta\n",
      "After color change: orange\n"
     ]
    }
   ],
   "source": [
    "class car():\n",
    "    def __init__(self,color):\n",
    "        self.color = color\n",
    "        self.wheels = 4\n",
    "honda = car(\"magenta\")\n",
    "            # my_dict[\"key\"] = \"value\"\n",
    "print(f\"before attribute change: {honda.wheels}\")\n",
    "honda.wheels = 6\n",
    "print(f\"After attribute change: {honda.wheels}\")\n",
    "\n",
    "print(f\"Before color change: {honda.color}\")\n",
    "honda.color = \"orange\"\n",
    "print(f\"After color change: {honda.color}\")"
   ]
  },
  {
   "cell_type": "code",
   "execution_count": null,
   "metadata": {},
   "outputs": [],
   "source": []
  },
  {
   "cell_type": "markdown",
   "metadata": {},
   "source": [
    "##### In-Class Exercise #2 - Add two new attributes to your 'Car' class then print out two different instances with different doors and seats. Then take that bad boy to the shop and change those attributes. Either with an input or just by changing them"
   ]
  },
  {
   "cell_type": "code",
   "execution_count": 75,
   "metadata": {},
   "outputs": [
    {
     "name": "stdout",
     "output_type": "stream",
     "text": [
      "white v8 4\n"
     ]
    }
   ],
   "source": [
    "class car():\n",
    "    def __init__(self, color, engine, wheels = 4):\n",
    "        self.color = color\n",
    "        self.engine = engine\n",
    "        self.wheels = wheels\n",
    "jeep = car(\"white\", \"v8\", 4)\n",
    "print(jeep.color, jeep.engine, jeep.wheels)\n",
    "\n",
    "class car():\n",
    "    Street_Race_Track = True\n",
    "    def __init__(self, color, enigne, wheels):\n",
    "        self.color = color\n",
    "        self.enigne = engine\n",
    "        self.wheels = wheels\n",
    "        "
   ]
  },
  {
   "cell_type": "markdown",
   "metadata": {},
   "source": [
    "## Class Methods <br>\n",
    "<p>While inside of a class, functions are referred to as 'methods'. If you hear someone mention methods, they're speaking about classes. Methods are essentially functions, but only callable on the instances of a class.</p>"
   ]
  },
  {
   "cell_type": "markdown",
   "metadata": {},
   "source": [
    "##### Creating"
   ]
  },
  {
   "cell_type": "code",
   "execution_count": 84,
   "metadata": {},
   "outputs": [
    {
     "ename": "IndentationError",
     "evalue": "expected an indented block after 'if' statement on line 22 (3048785616.py, line 23)",
     "output_type": "error",
     "traceback": [
      "\u001b[1;36m  Cell \u001b[1;32mIn[84], line 23\u001b[1;36m\u001b[0m\n\u001b[1;33m    print(\"The bus is full! You can't take anymore passengers!\")\u001b[0m\n\u001b[1;37m    ^\u001b[0m\n\u001b[1;31mIndentationError\u001b[0m\u001b[1;31m:\u001b[0m expected an indented block after 'if' statement on line 22\n"
     ]
    }
   ],
   "source": [
    "class Bus():\n",
    "    \"\"\"\n",
    "The bus will have doors, seats, seats available, color and a bus driver\n",
    "\n",
    "    Attributes:\n",
    "    -doors: integer\n",
    "    -seats: integer\n",
    "    -seats_available: integer\n",
    "    -color: string\n",
    "    _bus_driver: string\n",
    "\n",
    "    \"\"\"\n",
    "    def __init__(self, doors, seats, seats_available, color, bus_driver):\n",
    "        self.doors = doors\n",
    "        self.seats = seats\n",
    "        self.seats_available = seats_available\n",
    "        self.color = color\n",
    "        self.bus_driver = bus_driver\n",
    "\n",
    "#     decrement the number of seats available\n",
    "    def load_passengers(self):\n",
    "        if self.seats_available < 0:\n",
    "        print(\"The bus is full! You can't take anymore passengers!\")\n",
    "        if self.seats.seats_available < 0:\n",
    "            print(f\"You left {abs(self.seats_available)} by the road\")\n",
    "            self.seats_available = 0\n",
    "        else:\n",
    "            passengers = int(input(\"How many passengers are getting on?\"))\n",
    "            self.seats_available -= passengers\n",
    "            \n",
    "                else:\n",
    "                self self.seats_available < 0:\n",
    "            print(f\"{passengers} passengers have boarded. There are {self.seats_available} seats left on the bus\")\n",
    "            \n",
    "#     increment the number of seats available \n",
    "    def unload_passengers(self):\n",
    "        if self.seats_available >= self.seats:\n",
    "            print(\"There is no one left on the bus unload\")\n",
    "        else:\n",
    "            unload = int(input(\"How many passengers are getting off the bus?\"))\n",
    "            self.seats_available += unload\n",
    "            if self.seat_available > self.seats:\n",
    "                self.seats_availble = self.seats\n",
    "\n",
    "        print(f\"{unload} passengers have left the bus. There are {seats.available} seats left!\")\n",
    "\n",
    "#     change bus driver attribute\n",
    "    def change_driver(self):\n",
    "        change = input(\"Who is replacing you?\")\n",
    "        self.bus_driver = change\n",
    "        print(f\"The new driver is {self.bus_driver}. Be sure to thank them.\")\n",
    "\n",
    "#     display number of seats available\n",
    "    def check_seats(self):\n",
    "        print(f\"(There are {self.seats_available} seats available\")\n",
    "\n",
    "#     display bus color\n",
    "    def admire_bus(self):\n",
    "        print(f\"Would ya just look at that beautiful {self.self.color} bus! WOULD YA JUST LOOK AT IT!\")\n",
    "\n",
    "\n",
    "\n"
   ]
  },
  {
   "cell_type": "markdown",
   "metadata": {},
   "source": [
    "##### Calling"
   ]
  },
  {
   "cell_type": "code",
   "execution_count": 80,
   "metadata": {},
   "outputs": [
    {
     "ename": "SyntaxError",
     "evalue": "invalid syntax (2104685517.py, line 9)",
     "output_type": "error",
     "traceback": [
      "\u001b[1;36m  Cell \u001b[1;32mIn[80], line 9\u001b[1;36m\u001b[0m\n\u001b[1;33m    elif response == \"unload\":\u001b[0m\n\u001b[1;37m    ^\u001b[0m\n\u001b[1;31mSyntaxError\u001b[0m\u001b[1;31m:\u001b[0m invalid syntax\n"
     ]
    }
   ],
   "source": [
    "def run():\n",
    "    jeia_bus = Bus(2, 90, 45, \"yellow\", \"Jeia\")\n",
    "\n",
    "    while True:\n",
    "        response = input(\" What would you like to do? Load/Unload/Change Driver/ Check Seats/Admire/Quit\").lower()\n",
    "        if response == \"load\":\n",
    "            jeia_bus.load_passengers()\n",
    "\n",
    "    elif response == \"unload\":\n",
    "          jeia_bus.unload_passengers()\n",
    "\n",
    "    elif response == \"change driver\":\n",
    "        jeia_bus.change_driver()\n",
    "\n",
    "    elif response == \"check seats\":\n",
    "        jeia.bus.check_seats()\n",
    "\n",
    "    elif response == \"admire\":\n",
    "        jeia.bus.admire_bus()\n",
    "\n",
    "    elif response == \"quit\":\n",
    "        print(\"OH NO! THERE ARE STILL PASSENGERS PLEASE DONT ABANDON THEM!\")\n",
    "        break\n",
    "\n",
    "    else:\n",
    "        print(\"That is not a valis response. Please try again\")"
   ]
  },
  {
   "cell_type": "markdown",
   "metadata": {},
   "source": [
    "##### Modifying an Attribute's Value Through a Method"
   ]
  },
  {
   "cell_type": "code",
   "execution_count": null,
   "metadata": {},
   "outputs": [],
   "source": [
    "# see above\n",
    "# load_passengers()\n",
    "# unload_passengers()\n",
    "# change_driver()"
   ]
  },
  {
   "cell_type": "markdown",
   "metadata": {},
   "source": [
    "##### Incrementing an Attribute's Value Through a Method"
   ]
  },
  {
   "cell_type": "code",
   "execution_count": null,
   "metadata": {},
   "outputs": [],
   "source": [
    "#unload_passengers()"
   ]
  },
  {
   "cell_type": "markdown",
   "metadata": {},
   "source": [
    "##### In-Class Exercise #3 - Add a method that takes in three parameters of year, doors and seats and prints out a formatted print statement with make, model, year, seats, and doors"
   ]
  },
  {
   "cell_type": "code",
   "execution_count": null,
   "metadata": {},
   "outputs": [],
   "source": [
    "# Create class with 2 paramters inside of the __init__ which are make and model, more if you'd like\n",
    "\n",
    "# Create two methods for your class\n",
    "\n",
    "# Create a method that alters an attribute for your class\n",
    "\n",
    "# Display method that prints information about the vehicle\n",
    "\n",
    "# Output: This car is from 2019 and is a Ford Expolorer and has 4 doors and 5 seats\n",
    "\n",
    "# reminder in order to call class methods object.method()\n",
    "\n",
    "class car():\n",
    "    def __init__(self, make, model, doors, seats):\n",
    "        self.make = make\n",
    "        self.model = model\n",
    "        self.doord = doors\n",
    "        self.seats = seats\n",
    "        self.year = year\n",
    "\n",
    "    def add_seats(self):\n",
    "        new_seats = int(input(\"How many seats would you like to add?\")\n",
    "        self.seats += new_seats\n",
    "\n",
    "    def car_info(self):\n",
    "        print(f\"This is a {self.year} {self.make} {self.model}\n",
    "\n"
   ]
  },
  {
   "cell_type": "markdown",
   "metadata": {},
   "source": [
    "## Inheritance <br>\n",
    "<p>You can create a child-parent relationship between two classes by using inheritance. What this allows you to do is have overriding methods, but also inherit traits from the parent class. Think of it as an actual parent and child, the child will inherit the parent's genes, as will the classes in OOP</p>"
   ]
  },
  {
   "cell_type": "markdown",
   "metadata": {},
   "source": [
    "##### Syntax for Inheriting from a Parent Class"
   ]
  },
  {
   "cell_type": "code",
   "execution_count": 89,
   "metadata": {},
   "outputs": [],
   "source": [
    "# creation of a parenting class\n",
    "class Animal():\n",
    "    ACCERLERATION: 9.8\n",
    "\n",
    "    def __init__(self, name, species, legs):\n",
    "        self.name = name\n",
    "        self.species = species\n",
    "        self.legs = legs\n",
    "\n",
    "#       generic parent method\n",
    "    def make_snout(self):\n",
    "        print(\"REEEEEEEEEE\")\n",
    "\n",
    "#       parent class goes in the paremthesis\n",
    "class Dog(Animal):\n",
    "    SPEED = 15\n",
    "\n",
    "    def __init__(self, name, species = \"Dog\"):\n",
    "        super().__init__(name, species)  #call the parent method upon \n",
    "\n",
    "    def print_info(self):\n",
    "        print(f\"{self.name} runs at {self.SPEED} mph and accelerates at {self.ACCELERATION} mps^2\")\n",
    "\n",
    "# creation of our granchild class\n",
    "class Mutt(Dog):\n",
    "    CUTE = True\n",
    "    PRECIOUS = True\n",
    "\n",
    "    def __init__(self, name, eye_color, species = \"Mutt\"):\n",
    "        Dog.__init__(self, name, species)\n",
    "        self.eye_color = eye_color # specific tp the mutt class and is set ooutside of the dog.__init__\n",
    "        #self.eye_color is not an attribute set by the parent or grandparent classes\n",
    "\n",
    "# overriding parent method\n",
    "    def make_sound(self):\n",
    "        print (\"ROOOOOOOOOO\")"
   ]
  },
  {
   "cell_type": "code",
   "execution_count": 92,
   "metadata": {},
   "outputs": [
    {
     "ename": "NameError",
     "evalue": "name 'self' is not defined",
     "output_type": "error",
     "traceback": [
      "\u001b[1;31m---------------------------------------------------------------------------\u001b[0m",
      "\u001b[1;31mNameError\u001b[0m                                 Traceback (most recent call last)",
      "Cell \u001b[1;32mIn[92], line 1\u001b[0m\n\u001b[1;32m----> 1\u001b[0m dolphin \u001b[38;5;241m=\u001b[39m \u001b[43mAnimal\u001b[49m\u001b[43m(\u001b[49m\u001b[38;5;124;43m\"\u001b[39;49m\u001b[38;5;124;43mFlipper\u001b[39;49m\u001b[38;5;124;43m\"\u001b[39;49m\u001b[43m,\u001b[49m\u001b[43m \u001b[49m\u001b[38;5;124;43m\"\u001b[39;49m\u001b[38;5;124;43mdolphin\u001b[39;49m\u001b[38;5;124;43m\"\u001b[39;49m\u001b[43m)\u001b[49m\n\u001b[0;32m      2\u001b[0m \u001b[38;5;28mprint\u001b[39m(dolphin\u001b[38;5;241m.\u001b[39mlegs)\n\u001b[0;32m      3\u001b[0m dolphin\u001b[38;5;241m.\u001b[39mlegs \u001b[38;5;241m=\u001b[39m \u001b[38;5;241m0\u001b[39m\n",
      "Cell \u001b[1;32mIn[89], line 6\u001b[0m, in \u001b[0;36mAnimal.__init__\u001b[1;34m(Self, name, species)\u001b[0m\n\u001b[0;32m      5\u001b[0m \u001b[38;5;28;01mdef\u001b[39;00m \u001b[38;5;21m__init__\u001b[39m(Self, name, species):\n\u001b[1;32m----> 6\u001b[0m     \u001b[38;5;28;43mself\u001b[39;49m\u001b[38;5;241m.\u001b[39mname \u001b[38;5;241m=\u001b[39m name\n\u001b[0;32m      7\u001b[0m     \u001b[38;5;28mself\u001b[39m\u001b[38;5;241m.\u001b[39mspecies \u001b[38;5;241m=\u001b[39m species\n\u001b[0;32m      8\u001b[0m     \u001b[38;5;28mself\u001b[39m\u001b[38;5;241m.\u001b[39mlegs \u001b[38;5;241m=\u001b[39m legs\n",
      "\u001b[1;31mNameError\u001b[0m: name 'self' is not defined"
     ]
    }
   ],
   "source": [
    "# instantiation a parent class and accessing attributes\n",
    "dolphin = Animal(\"Flipper\", \"dolphin\")\n",
    "print(dolphin.legs)\n",
    "dolphin.legs = 0\n",
    "print(dolphin.legs)\n",
    "print(dolphin.acc)"
   ]
  },
  {
   "cell_type": "markdown",
   "metadata": {},
   "source": [
    "##### The \\__init\\__() Method for a Child Class - super()"
   ]
  },
  {
   "cell_type": "code",
   "execution_count": 93,
   "metadata": {
    "scrolled": true
   },
   "outputs": [
    {
     "ename": "NameError",
     "evalue": "name 'self' is not defined",
     "output_type": "error",
     "traceback": [
      "\u001b[1;31m---------------------------------------------------------------------------\u001b[0m",
      "\u001b[1;31mNameError\u001b[0m                                 Traceback (most recent call last)",
      "Cell \u001b[1;32mIn[93], line 2\u001b[0m\n\u001b[0;32m      1\u001b[0m \u001b[38;5;66;03m# instanilizing a child class and accessing attributes\u001b[39;00m\n\u001b[1;32m----> 2\u001b[0m pitbull \u001b[38;5;241m=\u001b[39m \u001b[43mDog\u001b[49m\u001b[43m(\u001b[49m\u001b[38;5;124;43m\"\u001b[39;49m\u001b[38;5;124;43mTitan\u001b[39;49m\u001b[38;5;124;43m\"\u001b[39;49m\u001b[43m)\u001b[49m\n\u001b[0;32m      3\u001b[0m \u001b[38;5;66;03m# accessinggg Dog attributes\u001b[39;00m\n\u001b[0;32m      4\u001b[0m \u001b[38;5;28mprint\u001b[39m(pitbull\u001b[38;5;241m.\u001b[39mSPEED)\n",
      "Cell \u001b[1;32mIn[89], line 19\u001b[0m, in \u001b[0;36mDog.__init__\u001b[1;34m(self, name, species)\u001b[0m\n\u001b[0;32m     18\u001b[0m \u001b[38;5;28;01mdef\u001b[39;00m \u001b[38;5;21m__init__\u001b[39m(\u001b[38;5;28mself\u001b[39m, name, species \u001b[38;5;241m=\u001b[39m \u001b[38;5;124m\"\u001b[39m\u001b[38;5;124mDog\u001b[39m\u001b[38;5;124m\"\u001b[39m):\n\u001b[1;32m---> 19\u001b[0m     \u001b[38;5;28;43msuper\u001b[39;49m\u001b[43m(\u001b[49m\u001b[43m)\u001b[49m\u001b[38;5;241;43m.\u001b[39;49m\u001b[38;5;21;43m__init__\u001b[39;49m\u001b[43m(\u001b[49m\u001b[43mname\u001b[49m\u001b[43m,\u001b[49m\u001b[43m \u001b[49m\u001b[43mspecies\u001b[49m\u001b[43m)\u001b[49m\n",
      "Cell \u001b[1;32mIn[89], line 6\u001b[0m, in \u001b[0;36mAnimal.__init__\u001b[1;34m(Self, name, species)\u001b[0m\n\u001b[0;32m      5\u001b[0m \u001b[38;5;28;01mdef\u001b[39;00m \u001b[38;5;21m__init__\u001b[39m(Self, name, species):\n\u001b[1;32m----> 6\u001b[0m     \u001b[38;5;28;43mself\u001b[39;49m\u001b[38;5;241m.\u001b[39mname \u001b[38;5;241m=\u001b[39m name\n\u001b[0;32m      7\u001b[0m     \u001b[38;5;28mself\u001b[39m\u001b[38;5;241m.\u001b[39mspecies \u001b[38;5;241m=\u001b[39m species\n\u001b[0;32m      8\u001b[0m     \u001b[38;5;28mself\u001b[39m\u001b[38;5;241m.\u001b[39mlegs \u001b[38;5;241m=\u001b[39m legs\n",
      "\u001b[1;31mNameError\u001b[0m: name 'self' is not defined"
     ]
    }
   ],
   "source": [
    "# instanilizing a child class and accessing attributes\n",
    "pitbull = Dog(\"Titan\")\n",
    "# accessinggg Dog attributes\n",
    "print(pitbull.SPEED)\n",
    "# accessing parent method\n",
    "pitbull.make_sound()\n",
    "#accessing a default attribute from the parent method\n",
    "print(pitbull.legs)\n",
    "# default species attribute for  the dog class\n",
    "print(pitbull.species)\n",
    "#accessing parent attribute\n",
    "print(pitbull.ACCELERATION)\n",
    "# dog method of print_info()\n",
    "pitbull.print_infoz90"
   ]
  },
  {
   "cell_type": "code",
   "execution_count": 94,
   "metadata": {},
   "outputs": [
    {
     "ename": "NameError",
     "evalue": "name 'self' is not defined",
     "output_type": "error",
     "traceback": [
      "\u001b[1;31m---------------------------------------------------------------------------\u001b[0m",
      "\u001b[1;31mNameError\u001b[0m                                 Traceback (most recent call last)",
      "Cell \u001b[1;32mIn[94], line 3\u001b[0m\n\u001b[0;32m      1\u001b[0m \u001b[38;5;66;03m# instantiating our grandchild class\u001b[39;00m\n\u001b[0;32m      2\u001b[0m \u001b[38;5;66;03m# this will have access to the attribute and methods from the dog class and the Animal class\u001b[39;00m\n\u001b[1;32m----> 3\u001b[0m skippy_skip \u001b[38;5;241m=\u001b[39m \u001b[43mMutt\u001b[49m\u001b[43m(\u001b[49m\u001b[38;5;124;43m\"\u001b[39;49m\u001b[38;5;124;43mSkippy\u001b[39;49m\u001b[38;5;124;43m\"\u001b[39;49m\u001b[43m,\u001b[49m\u001b[43m \u001b[49m\u001b[38;5;124;43m\"\u001b[39;49m\u001b[38;5;124;43mbrown\u001b[39;49m\u001b[38;5;124;43m\"\u001b[39;49m\u001b[43m)\u001b[49m\n\u001b[0;32m      4\u001b[0m \u001b[38;5;66;03m# access grandparent attributes of ACCELERATION\u001b[39;00m\n\u001b[0;32m      5\u001b[0m \u001b[38;5;28mprint\u001b[39m( skippy_skip\u001b[38;5;241m.\u001b[39mSPEED)\n",
      "Cell \u001b[1;32mIn[89], line 30\u001b[0m, in \u001b[0;36mMutt.__init__\u001b[1;34m(self, name, eye_color, species)\u001b[0m\n\u001b[0;32m     29\u001b[0m \u001b[38;5;28;01mdef\u001b[39;00m \u001b[38;5;21m__init__\u001b[39m(\u001b[38;5;28mself\u001b[39m, name, eye_color, species \u001b[38;5;241m=\u001b[39m \u001b[38;5;124m\"\u001b[39m\u001b[38;5;124mMutt\u001b[39m\u001b[38;5;124m\"\u001b[39m):\n\u001b[1;32m---> 30\u001b[0m     \u001b[43mDog\u001b[49m\u001b[38;5;241;43m.\u001b[39;49m\u001b[38;5;21;43m__init__\u001b[39;49m\u001b[43m(\u001b[49m\u001b[38;5;28;43mself\u001b[39;49m\u001b[43m,\u001b[49m\u001b[43m \u001b[49m\u001b[43mname\u001b[49m\u001b[43m,\u001b[49m\u001b[43m \u001b[49m\u001b[43mspecies\u001b[49m\u001b[43m)\u001b[49m\n\u001b[0;32m     31\u001b[0m     \u001b[38;5;28mself\u001b[39m\u001b[38;5;241m.\u001b[39meye_color \u001b[38;5;241m=\u001b[39m eye_color\n",
      "Cell \u001b[1;32mIn[89], line 19\u001b[0m, in \u001b[0;36mDog.__init__\u001b[1;34m(self, name, species)\u001b[0m\n\u001b[0;32m     18\u001b[0m \u001b[38;5;28;01mdef\u001b[39;00m \u001b[38;5;21m__init__\u001b[39m(\u001b[38;5;28mself\u001b[39m, name, species \u001b[38;5;241m=\u001b[39m \u001b[38;5;124m\"\u001b[39m\u001b[38;5;124mDog\u001b[39m\u001b[38;5;124m\"\u001b[39m):\n\u001b[1;32m---> 19\u001b[0m     \u001b[38;5;28;43msuper\u001b[39;49m\u001b[43m(\u001b[49m\u001b[43m)\u001b[49m\u001b[38;5;241;43m.\u001b[39;49m\u001b[38;5;21;43m__init__\u001b[39;49m\u001b[43m(\u001b[49m\u001b[43mname\u001b[49m\u001b[43m,\u001b[49m\u001b[43m \u001b[49m\u001b[43mspecies\u001b[49m\u001b[43m)\u001b[49m\n",
      "Cell \u001b[1;32mIn[89], line 6\u001b[0m, in \u001b[0;36mAnimal.__init__\u001b[1;34m(Self, name, species)\u001b[0m\n\u001b[0;32m      5\u001b[0m \u001b[38;5;28;01mdef\u001b[39;00m \u001b[38;5;21m__init__\u001b[39m(Self, name, species):\n\u001b[1;32m----> 6\u001b[0m     \u001b[38;5;28;43mself\u001b[39;49m\u001b[38;5;241m.\u001b[39mname \u001b[38;5;241m=\u001b[39m name\n\u001b[0;32m      7\u001b[0m     \u001b[38;5;28mself\u001b[39m\u001b[38;5;241m.\u001b[39mspecies \u001b[38;5;241m=\u001b[39m species\n\u001b[0;32m      8\u001b[0m     \u001b[38;5;28mself\u001b[39m\u001b[38;5;241m.\u001b[39mlegs \u001b[38;5;241m=\u001b[39m legs\n",
      "\u001b[1;31mNameError\u001b[0m: name 'self' is not defined"
     ]
    }
   ],
   "source": [
    "# instantiating our grandchild class\n",
    "# this will have access to the attribute and methods from the dog class and the Animal class\n",
    "skippy_skip = Mutt(\"Skippy\", \"brown\")\n",
    "# access grandparent attributes of ACCELERATION\n",
    "print( skippy_skip.SPEED)"
   ]
  },
  {
   "cell_type": "markdown",
   "metadata": {},
   "source": [
    "##### Defining Attributes and Methods for the Child Class"
   ]
  },
  {
   "cell_type": "code",
   "execution_count": null,
   "metadata": {},
   "outputs": [],
   "source": [
    "# See Above"
   ]
  },
  {
   "cell_type": "markdown",
   "metadata": {},
   "source": [
    "##### Method Overriding"
   ]
  },
  {
   "cell_type": "code",
   "execution_count": null,
   "metadata": {},
   "outputs": [],
   "source": [
    "# See Above"
   ]
  },
  {
   "cell_type": "markdown",
   "metadata": {},
   "source": [
    "## Encapsulation\n"
   ]
  },
  {
   "cell_type": "markdown",
   "metadata": {},
   "source": [
    "<p>Encapsulation is one of the fundamental concepts in object-oriented programming (OOP). It describes the idea of wrapping data and the methods that work on data within one unit. This puts restrictions on accessing variables and methods directly and can prevent the accidental modification of data. f"
   ]
  },
  {
   "cell_type": "markdown",
   "metadata": {},
   "source": [
    "### Access Modifiers\n"
   ]
  },
  {
   "cell_type": "markdown",
   "metadata": {},
   "source": [
    "#### Public\n",
    "<p> Attributes & methods default to public in classes. Meaning they can be accessed from anywhere. "
   ]
  },
  {
   "cell_type": "code",
   "execution_count": 1,
   "metadata": {},
   "outputs": [],
   "source": [
    "#see above. All attributes & methods in the previous examples are public"
   ]
  },
  {
   "cell_type": "markdown",
   "metadata": {},
   "source": [
    "#### Protected \n",
    "<p>Protected attributes are denoted with a singular '_' underscore. Attributes & methods that are protected are only accessible in the class it derived from and any inherited classes. "
   ]
  },
  {
   "cell_type": "code",
   "execution_count": null,
   "metadata": {},
   "outputs": [],
   "source": []
  },
  {
   "cell_type": "markdown",
   "metadata": {},
   "source": [
    "#### Private \n",
    "<p>Private attributes are denoted with a double '__' underscore. Attributes & methods that are private are only accessible in the class it was derived from making them the most secure. "
   ]
  },
  {
   "cell_type": "code",
   "execution_count": null,
   "metadata": {},
   "outputs": [],
   "source": []
  },
  {
   "cell_type": "markdown",
   "metadata": {},
   "source": [
    "## Classes as Attributes <br>\n",
    "<p>Classes can also be used as attributes within another class. This is useful in situations where you need to keep variables locally stored, instead of globally stored.</p>"
   ]
  },
  {
   "cell_type": "code",
   "execution_count": null,
   "metadata": {},
   "outputs": [],
   "source": []
  },
  {
   "cell_type": "markdown",
   "metadata": {},
   "source": [
    "### Generators in Classes"
   ]
  },
  {
   "cell_type": "code",
   "execution_count": null,
   "metadata": {},
   "outputs": [],
   "source": []
  },
  {
   "cell_type": "markdown",
   "metadata": {},
   "source": [
    "# Exercises"
   ]
  },
  {
   "cell_type": "markdown",
   "metadata": {},
   "source": [
    "### Exercise 1 - Turn the shopping cart program from last week into an object-oriented program\n",
    "\n",
    "The comments in the cell below are there as a guide for thinking about the problem. However, if you feel a different way is best for you and your own thought process, please do what feels best for you by all means."
   ]
  },
  {
   "cell_type": "code",
   "execution_count": null,
   "metadata": {},
   "outputs": [],
   "source": [
    "# Create a class called cart that retains items and has methods to add, remove, and show\n",
    "\n",
    "class Cart():\n",
    "    pass\n",
    "    "
   ]
  },
  {
   "cell_type": "markdown",
   "metadata": {},
   "source": [
    "### Exercise 1 Option 2 - Create A Video Game Character Class using Object-Oriented Programming\n",
    "<p>The character class should have the following attributes: character type (i.e. ogre, human, elf, etc), health points, attack points, weapons (list or dictionary). The class should also have the following methods to deplete health points, regain health points, add or remove weapons, and show character stats.\n",
    "    "
   ]
  },
  {
   "cell_type": "code",
   "execution_count": 46,
   "metadata": {},
   "outputs": [],
   "source": [
    "# health points, attack points, weapons list or dict, re-up points, +/- weapoons and character stats\n",
    "# Character type (Mario)\n",
    "# Health points (+2/-1)\n",
    "# Attack/Mushroom points (+2/-2)\n",
    "# Weapons/Power-ups\n",
    "#Character Stats\n",
    "class Character():\n",
    "    super_mario = True #not likely to change because Mario is always super\n",
    "    def __init__(self, character, health_points, mushroom_points, character_stats, ):\n",
    "        self.character = character\n",
    "        self.health_points = health_points\n",
    "        self.mushroom_points = mushroom_points\n",
    "        self.character_stats = character_stats\n",
    "        self.power = []\n",
    "\n",
    "    def add_health_points(self):\n",
    "        \n",
    "        self.health_points += 2 #adding health points\n",
    "        print(\"+2\")\n",
    "       \n",
    "    def deplete_health_points(self): #subtracting health points\n",
    "        self.health_points += 2\n",
    "        self.health_points -= 1\n",
    "        if self.health_points <= 0:\n",
    "    \n",
    "            print(\"Game Over!\")\n",
    "        \n",
    "    def mushroom_point_board(self):\n",
    "        self.mushroom_points += 2\n",
    "        \n",
    "        if self.mushroom_points >= 100:\n",
    "            \n",
    "            print(\"Level up, Choose a power-up\")\n",
    "\n",
    "        while True:\n",
    "            response = (\"What power would you like to choose? Fireball, micro mushroom, giant mario, or ice mario\")\n",
    "            if response.lower() == \"ice mario\":\n",
    "                print(f\"You chose {self.power.append}You have powered up!\")\n",
    "            if self.attack_points >= 100:\n",
    "                print(\"Next Level-->\")\n",
    "        \n",
    "        while True:\n",
    "                self.mushroom_points < 100\n",
    "                self.mushroom_points += 2 #added mushroom points\n",
    "                print(f\"you have {self.mushroom_points} mushroom points\")\n",
    "            \n",
    "        if self.mushroom_points <= 90:\n",
    "                print(f\"You have lost your {self.power} 10 more mushroom points for another power up!\")\n",
    "        \n",
    "        while True:\n",
    "            self.mushroom_points -= 2 #subtracted mushroom points\n",
    "            print(f\"You have {self.mushroom_points} mushroom points\")\n",
    "\n",
    "# need to add a .append* somewhere....append adds to the function f.e. adding a power, adding point,etc always used to add to functions\n",
    "# Also you can not append to an integer!    \n",
    "\n"
   ]
  },
  {
   "cell_type": "markdown",
   "metadata": {},
   "source": [
    "### Exercise 2 - Write a Python class which has two methods get_String and print_String. get_String accept a string from the user and print_String print the string in upper case"
   ]
  },
  {
   "cell_type": "code",
   "execution_count": null,
   "metadata": {},
   "outputs": [],
   "source": [
    "#initialize a method nunmber 1 called get_string\n",
    "#initialize a method number 2 called print_string\n",
    "#get a string and assign it to an attribute\n",
    "#print_string in uppercase"
   ]
  },
  {
   "cell_type": "code",
   "execution_count": 16,
   "metadata": {},
   "outputs": [],
   "source": [
    "class get_string:\n",
    "    def __init__(self):\n",
    "        self.string == ''\n",
    "\n",
    "    def get_string(self):\n",
    "        self.string = ('string')\n",
    "\n",
    "\n",
    "        print(self.string.upper())"
   ]
  },
  {
   "cell_type": "code",
   "execution_count": null,
   "metadata": {},
   "outputs": [],
   "source": []
  }
 ],
 "metadata": {
  "kernelspec": {
   "display_name": "Python 3 (ipykernel)",
   "language": "python",
   "name": "python3"
  },
  "language_info": {
   "codemirror_mode": {
    "name": "ipython",
    "version": 3
   },
   "file_extension": ".py",
   "mimetype": "text/x-python",
   "name": "python",
   "nbconvert_exporter": "python",
   "pygments_lexer": "ipython3",
   "version": "3.12.1"
  }
 },
 "nbformat": 4,
 "nbformat_minor": 4
}
